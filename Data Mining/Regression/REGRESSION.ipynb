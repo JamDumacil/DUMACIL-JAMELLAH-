{
  "nbformat": 4,
  "nbformat_minor": 0,
  "metadata": {
    "colab": {
      "name": "REGRESSION",
      "provenance": [],
      "collapsed_sections": [],
      "toc_visible": true
    },
    "kernelspec": {
      "name": "python3",
      "display_name": "Python 3"
    }
  },
  "cells": [
    {
      "cell_type": "code",
      "metadata": {
        "id": "auTkgJWl-VEl",
        "colab_type": "code",
        "colab": {}
      },
      "source": [
        "import pandas as pd\n",
        "import numpy as np\n",
        "import matplotlib.pyplot as plt\n",
        "import seaborn as seabornInstance\n",
        "%matplotlib inline\n",
        "from sklearn.model_selection import train_test_split\n",
        "from sklearn.linear_model import LinearRegression\n",
        "from sklearn import metrics"
      ],
      "execution_count": 0,
      "outputs": []
    },
    {
      "cell_type": "code",
      "metadata": {
        "id": "H2B-FXAo_lyy",
        "colab_type": "code",
        "outputId": "72218727-e413-47e4-c2a4-c17d1346d74c",
        "colab": {
          "base_uri": "https://localhost:8080/",
          "height": 419
        }
      },
      "source": [
        "#drop all the unnecessary data, leave only the needed ones\n",
        "dataset = pd.read_csv('survey_results_filtered.csv')\n",
        "dataset.drop(['Respondent', 'Country', 'Hobby', 'OpenSource', 'FormalEducation', 'UndergradMajor', 'CompanySize', 'DevType', 'JobSatisfaction', 'CareerSatisfaction', 'HopeFiveYears','JobSearchStatus', 'LastNewJob', 'AssessJob1', 'AssessJob2', 'AssessJob3', 'AssessJob4', 'AssessJob5', 'AssessJob6', 'AssessJob7', 'AssessJob8', 'AssessJob9','AssessJob10', 'AssessBenefits1', 'AssessBenefits2', 'AssessBenefits3', 'AssessBenefits4', 'AssessBenefits5', 'AssessBenefits6', 'AssessBenefits7', 'AssessBenefits8','AssessBenefits9', 'AssessBenefits10', 'AssessBenefits11', 'JobContactPriorities1', 'JobContactPriorities2', 'JobContactPriorities3','JobContactPriorities4','JobContactPriorities5', 'JobEmailPriorities1', 'JobEmailPriorities2', 'JobEmailPriorities3', 'JobEmailPriorities4', 'JobEmailPriorities5', 'JobEmailPriorities6', 'JobEmailPriorities7',\n",
        "              'UpdateCV', 'CurrencySymbol', 'CommunicationTools', 'TimeFullyProductive', 'Currency', 'Salary', 'EducationTypes', 'SelfTaughtTypes', 'TimeAfterBootcamp', 'HackathonReasons','AgreeDisagree1', 'AgreeDisagree2', 'AgreeDisagree3', 'LanguageWorkedWith', 'LanguageDesireNextYear', 'DatabaseWorkedWith', 'DatabaseDesireNextYear' ,'PlatformWorkedWith', 'PlatformDesireNextYear','FrameworkWorkedWith', 'FrameworkDesireNextYear', 'IDE', 'OperatingSystem', 'NumberMonitors','Methodology', 'VersionControl', 'CheckInCode','AdBlocker','AdBlockerDisable', 'AdBlockerReasons','AdsAgreeDisagree1', 'AdsAgreeDisagree2', 'AdsAgreeDisagree3', 'AdsActions', 'AdsPriorities1', 'AdsPriorities2', 'AdsPriorities3', 'AdsPriorities4', 'AdsPriorities5','AdsPriorities6', 'AdsPriorities7', 'AIDangerous', 'AIInteresting','AIResponsible', 'AIFuture','EthicsChoice',\n",
        "              'EthicsReport', 'EthicsResponsible','EthicalImplications', 'StackOverflowRecommend','StackOverflowVisit', 'StackOverflowHasAccount', 'StackOverflowParticipate','StackOverflowJobs', 'StackOverflowDevStory', 'StackOverflowJobsRecommend','StackOverflowConsiderMember', 'HypotheticalTools1','HypotheticalTools2', 'HypotheticalTools3', 'HypotheticalTools4', 'HypotheticalTools5', 'WakeTime', 'HoursComputer', 'HoursOutside', 'SkipMeals', 'ErgonomicDevices', 'Exercise','Gender', 'SexualOrientation', 'EducationParents', 'RaceEthnicity', 'Age', 'Dependents', 'MilitaryUS', 'SurveyTooLong', 'SurveyEasy'], axis = 1, inplace=True) \n",
        "\n",
        "#remove rows or columns by specifying label names and corresponding axis, or by specifying directly index or column names\n",
        "dataset.drop(dataset[dataset.Student != 'No'].index, axis=0, inplace=True)\n",
        "dataset.drop(dataset[dataset.Employment != 'Employed full-time'].index, axis=0, inplace=True)\n",
        "dataset.dropna(inplace=True)\n",
        "dataset.drop(['Student', 'Employment', 'YearsCoding'], axis = 1, inplace=True) \n",
        "\n",
        "#splits into a list\n",
        "years_split = dataset['YearsCodingProf']\n",
        "convertedYears = []\n",
        "for i in years_split:\n",
        "  yawa = str(i).split('-')\n",
        "  if(str(yawa[0]) == '30 or more years'):\n",
        "    ave = int(yawa[0].split(' ')[0])\n",
        "  else:\n",
        "    ave = int( (int(yawa[0]) + int(yawa[1].split(' ')[0])) / 2 )\n",
        "  convertedYears.append(ave)\n",
        "dataset['ConvertedYears'] = convertedYears\n",
        "\n",
        "#the salary is already converted so no need to converted manuallly\n",
        "#def convertToMonthly(x):\n",
        "  #if(x['SalaryType'] == 'Yearly'):\n",
        "  #  return (int(x['ConvertedSalary']) / 12)\n",
        " # elif(x['SalaryType'] == 'Weekly'):\n",
        "  #  return (int(x['ConvertedSalary']) * 4)\n",
        "#  else:\n",
        "   # return int(x['ConvertedSalary'])\n",
        "\n",
        "#dataset['MonthlySalary'] = dataset[['ConvertedSalary', 'SalaryType']].apply(convertToMonthly, axis=1)\n",
        "\n",
        "dataset['FinalSalaryInPhp'] = (dataset['ConvertedSalary'] * 51) \n",
        "dataset\n"
      ],
      "execution_count": 35,
      "outputs": [
        {
          "output_type": "execute_result",
          "data": {
            "text/html": [
              "<div>\n",
              "<style scoped>\n",
              "    .dataframe tbody tr th:only-of-type {\n",
              "        vertical-align: middle;\n",
              "    }\n",
              "\n",
              "    .dataframe tbody tr th {\n",
              "        vertical-align: top;\n",
              "    }\n",
              "\n",
              "    .dataframe thead th {\n",
              "        text-align: right;\n",
              "    }\n",
              "</style>\n",
              "<table border=\"1\" class=\"dataframe\">\n",
              "  <thead>\n",
              "    <tr style=\"text-align: right;\">\n",
              "      <th></th>\n",
              "      <th>YearsCodingProf</th>\n",
              "      <th>SalaryType</th>\n",
              "      <th>ConvertedSalary</th>\n",
              "      <th>ConvertedYears</th>\n",
              "      <th>FinalSalaryInPhp</th>\n",
              "    </tr>\n",
              "  </thead>\n",
              "  <tbody>\n",
              "    <tr>\n",
              "      <th>1</th>\n",
              "      <td>18-20 years</td>\n",
              "      <td>Yearly</td>\n",
              "      <td>70841.0</td>\n",
              "      <td>19</td>\n",
              "      <td>3612891.0</td>\n",
              "    </tr>\n",
              "    <tr>\n",
              "      <th>6</th>\n",
              "      <td>0-2 years</td>\n",
              "      <td>Yearly</td>\n",
              "      <td>120000.0</td>\n",
              "      <td>1</td>\n",
              "      <td>6120000.0</td>\n",
              "    </tr>\n",
              "    <tr>\n",
              "      <th>8</th>\n",
              "      <td>21-23 years</td>\n",
              "      <td>Yearly</td>\n",
              "      <td>250000.0</td>\n",
              "      <td>22</td>\n",
              "      <td>12750000.0</td>\n",
              "    </tr>\n",
              "    <tr>\n",
              "      <th>17</th>\n",
              "      <td>0-2 years</td>\n",
              "      <td>Monthly</td>\n",
              "      <td>47904.0</td>\n",
              "      <td>1</td>\n",
              "      <td>2443104.0</td>\n",
              "    </tr>\n",
              "    <tr>\n",
              "      <th>20</th>\n",
              "      <td>12-14 years</td>\n",
              "      <td>Yearly</td>\n",
              "      <td>95968.0</td>\n",
              "      <td>13</td>\n",
              "      <td>4894368.0</td>\n",
              "    </tr>\n",
              "    <tr>\n",
              "      <th>...</th>\n",
              "      <td>...</td>\n",
              "      <td>...</td>\n",
              "      <td>...</td>\n",
              "      <td>...</td>\n",
              "      <td>...</td>\n",
              "    </tr>\n",
              "    <tr>\n",
              "      <th>3308</th>\n",
              "      <td>3-5 years</td>\n",
              "      <td>Monthly</td>\n",
              "      <td>6204.0</td>\n",
              "      <td>4</td>\n",
              "      <td>316404.0</td>\n",
              "    </tr>\n",
              "    <tr>\n",
              "      <th>3309</th>\n",
              "      <td>0-2 years</td>\n",
              "      <td>Monthly</td>\n",
              "      <td>43200.0</td>\n",
              "      <td>1</td>\n",
              "      <td>2203200.0</td>\n",
              "    </tr>\n",
              "    <tr>\n",
              "      <th>3310</th>\n",
              "      <td>3-5 years</td>\n",
              "      <td>Monthly</td>\n",
              "      <td>8100.0</td>\n",
              "      <td>4</td>\n",
              "      <td>413100.0</td>\n",
              "    </tr>\n",
              "    <tr>\n",
              "      <th>3312</th>\n",
              "      <td>12-14 years</td>\n",
              "      <td>Yearly</td>\n",
              "      <td>102000.0</td>\n",
              "      <td>13</td>\n",
              "      <td>5202000.0</td>\n",
              "    </tr>\n",
              "    <tr>\n",
              "      <th>3313</th>\n",
              "      <td>3-5 years</td>\n",
              "      <td>Yearly</td>\n",
              "      <td>45352.0</td>\n",
              "      <td>4</td>\n",
              "      <td>2312952.0</td>\n",
              "    </tr>\n",
              "  </tbody>\n",
              "</table>\n",
              "<p>1344 rows × 5 columns</p>\n",
              "</div>"
            ],
            "text/plain": [
              "     YearsCodingProf SalaryType  ...  ConvertedYears  FinalSalaryInPhp\n",
              "1        18-20 years     Yearly  ...              19         3612891.0\n",
              "6          0-2 years     Yearly  ...               1         6120000.0\n",
              "8        21-23 years     Yearly  ...              22        12750000.0\n",
              "17         0-2 years    Monthly  ...               1         2443104.0\n",
              "20       12-14 years     Yearly  ...              13         4894368.0\n",
              "...              ...        ...  ...             ...               ...\n",
              "3308       3-5 years    Monthly  ...               4          316404.0\n",
              "3309       0-2 years    Monthly  ...               1         2203200.0\n",
              "3310       3-5 years    Monthly  ...               4          413100.0\n",
              "3312     12-14 years     Yearly  ...              13         5202000.0\n",
              "3313       3-5 years     Yearly  ...               4         2312952.0\n",
              "\n",
              "[1344 rows x 5 columns]"
            ]
          },
          "metadata": {
            "tags": []
          },
          "execution_count": 35
        }
      ]
    },
    {
      "cell_type": "code",
      "metadata": {
        "id": "6nJ8k6_Sw9I4",
        "colab_type": "code",
        "outputId": "615aba69-0cde-417e-ae3e-82c443ee90da",
        "colab": {
          "base_uri": "https://localhost:8080/",
          "height": 370
        }
      },
      "source": [
        "#https://intellipaat.com/community/3011/pandas-resetindex-after-groupby-valuecounts\n",
        "grouped_dataset = dataset.groupby(['ConvertedYears']).mean()\n",
        "grouped_dataset = grouped_dataset.reset_index()\n",
        "grouped_dataset"
      ],
      "execution_count": 36,
      "outputs": [
        {
          "output_type": "execute_result",
          "data": {
            "text/html": [
              "<div>\n",
              "<style scoped>\n",
              "    .dataframe tbody tr th:only-of-type {\n",
              "        vertical-align: middle;\n",
              "    }\n",
              "\n",
              "    .dataframe tbody tr th {\n",
              "        vertical-align: top;\n",
              "    }\n",
              "\n",
              "    .dataframe thead th {\n",
              "        text-align: right;\n",
              "    }\n",
              "</style>\n",
              "<table border=\"1\" class=\"dataframe\">\n",
              "  <thead>\n",
              "    <tr style=\"text-align: right;\">\n",
              "      <th></th>\n",
              "      <th>ConvertedYears</th>\n",
              "      <th>ConvertedSalary</th>\n",
              "      <th>FinalSalaryInPhp</th>\n",
              "    </tr>\n",
              "  </thead>\n",
              "  <tbody>\n",
              "    <tr>\n",
              "      <th>0</th>\n",
              "      <td>1</td>\n",
              "      <td>77816.198582</td>\n",
              "      <td>3.968626e+06</td>\n",
              "    </tr>\n",
              "    <tr>\n",
              "      <th>1</th>\n",
              "      <td>4</td>\n",
              "      <td>91549.342790</td>\n",
              "      <td>4.669016e+06</td>\n",
              "    </tr>\n",
              "    <tr>\n",
              "      <th>2</th>\n",
              "      <td>7</td>\n",
              "      <td>102388.039409</td>\n",
              "      <td>5.221790e+06</td>\n",
              "    </tr>\n",
              "    <tr>\n",
              "      <th>3</th>\n",
              "      <td>10</td>\n",
              "      <td>122685.177215</td>\n",
              "      <td>6.256944e+06</td>\n",
              "    </tr>\n",
              "    <tr>\n",
              "      <th>4</th>\n",
              "      <td>13</td>\n",
              "      <td>105541.025316</td>\n",
              "      <td>5.382592e+06</td>\n",
              "    </tr>\n",
              "    <tr>\n",
              "      <th>5</th>\n",
              "      <td>16</td>\n",
              "      <td>156284.515152</td>\n",
              "      <td>7.970510e+06</td>\n",
              "    </tr>\n",
              "    <tr>\n",
              "      <th>6</th>\n",
              "      <td>19</td>\n",
              "      <td>176495.892857</td>\n",
              "      <td>9.001291e+06</td>\n",
              "    </tr>\n",
              "    <tr>\n",
              "      <th>7</th>\n",
              "      <td>22</td>\n",
              "      <td>167178.344828</td>\n",
              "      <td>8.526096e+06</td>\n",
              "    </tr>\n",
              "    <tr>\n",
              "      <th>8</th>\n",
              "      <td>25</td>\n",
              "      <td>93889.666667</td>\n",
              "      <td>4.788373e+06</td>\n",
              "    </tr>\n",
              "    <tr>\n",
              "      <th>9</th>\n",
              "      <td>28</td>\n",
              "      <td>211511.571429</td>\n",
              "      <td>1.078709e+07</td>\n",
              "    </tr>\n",
              "    <tr>\n",
              "      <th>10</th>\n",
              "      <td>30</td>\n",
              "      <td>200638.461538</td>\n",
              "      <td>1.023256e+07</td>\n",
              "    </tr>\n",
              "  </tbody>\n",
              "</table>\n",
              "</div>"
            ],
            "text/plain": [
              "    ConvertedYears  ConvertedSalary  FinalSalaryInPhp\n",
              "0                1     77816.198582      3.968626e+06\n",
              "1                4     91549.342790      4.669016e+06\n",
              "2                7    102388.039409      5.221790e+06\n",
              "3               10    122685.177215      6.256944e+06\n",
              "4               13    105541.025316      5.382592e+06\n",
              "5               16    156284.515152      7.970510e+06\n",
              "6               19    176495.892857      9.001291e+06\n",
              "7               22    167178.344828      8.526096e+06\n",
              "8               25     93889.666667      4.788373e+06\n",
              "9               28    211511.571429      1.078709e+07\n",
              "10              30    200638.461538      1.023256e+07"
            ]
          },
          "metadata": {
            "tags": []
          },
          "execution_count": 36
        }
      ]
    },
    {
      "cell_type": "code",
      "metadata": {
        "id": "vcwvLOrv87sO",
        "colab_type": "code",
        "outputId": "8c9c2922-6c87-4372-ad94-b6f584b3b4f6",
        "colab": {
          "base_uri": "https://localhost:8080/",
          "height": 490
        }
      },
      "source": [
        "X_train, X_test, y_train, y_test = train_test_split(X, y, test_size = 0.2, random_state = 0)\n",
        "\n",
        "regressor = LinearRegression()\n",
        "regressor.fit(X_train, y_train)\n",
        "\n",
        "y_pred = regressor.predict(X_test)\n",
        "\n",
        "df = pd.DataFrame({'Actual': y_test, 'Predicted': y_pred})\n",
        "\n",
        "df1 = df.head(10)\n",
        "#https://towardsdatascience.com/a-beginners-guide-to-linear-regression-in-python-with-scikit-learn-83a8f7ae2b4f\n",
        "df1.plot(kind='bar', figsize=(10,8))\n",
        "plt.grid(which='major', linestyle='-', linewidth='0.5', color='green')\n",
        "plt.grid(which='minor', linestyle=':', linewidth='0.5', color='black')\n",
        "plt.show()"
      ],
      "execution_count": 37,
      "outputs": [
        {
          "output_type": "display_data",
          "data": {
            "image/png": "[encoded data removed]",
            "text/plain": [
              "<Figure size 720x576 with 1 Axes>"
            ]
          },
          "metadata": {
            "tags": []
          }
        }
      ]
    },
    {
      "cell_type": "code",
      "metadata": {
        "id": "caoIIKGj9mOl",
        "colab_type": "code",
        "outputId": "092f9cfd-d66a-497a-f261-eeaf13bea746",
        "colab": {
          "base_uri": "https://localhost:8080/",
          "height": 654
        }
      },
      "source": [
        "\n",
        "X = dataset[['ConvertedYears']].values\n",
        "y = dataset['FinalSalaryInPhp'].values\n",
        "\n",
        "#plot the datapoints to see the relationship\n",
        "#https://towardsdatascience.com/a-beginners-guide-to-linear-regression-in-python-with-scikit-learn-83a8f7ae2b4f\n",
        "plt.figure(figsize=(15,10))\n",
        "plt.tight_layout()\n",
        "seabornInstance.distplot(dataset['FinalSalaryInPhp'])\n"
      ],
      "execution_count": 38,
      "outputs": [
        {
          "output_type": "execute_result",
          "data": {
            "text/plain": [
              "<matplotlib.axes._subplots.AxesSubplot at 0x7fdcf5115710>"
            ]
          },
          "metadata": {
            "tags": []
          },
          "execution_count": 38
        },
        {
          "output_type": "display_data",
          "data": {
            "image/png": "[encoded data removed]",
            "text/plain": [
              "<Figure size 1080x720 with 1 Axes>"
            ]
          },
          "metadata": {
            "tags": []
          }
        }
      ]
    },
    {
      "cell_type": "code",
      "metadata": {
        "id": "8wC_d9ph-gxT",
        "colab_type": "code",
        "outputId": "fc2cc601-638e-4825-b32c-5c4fc898b00d",
        "colab": {
          "base_uri": "https://localhost:8080/",
          "height": 313
        }
      },
      "source": [
        "plt.scatter(X_train, y_train, color = 'gray')\n",
        "plt.plot(X_train, regressor.predict(X_train), color = 'red')\n",
        "plt.title('YEAR and SALARY')\n",
        "plt.xlabel('Year')\n",
        "plt.ylabel('Salary')"
      ],
      "execution_count": 39,
      "outputs": [
        {
          "output_type": "execute_result",
          "data": {
            "text/plain": [
              "Text(0, 0.5, 'Salary')"
            ]
          },
          "metadata": {
            "tags": []
          },
          "execution_count": 39
        },
        {
          "output_type": "display_data",
          "data": {
            "image/png": "[encoded data removed]",
            "text/plain": [
              "<Figure size 432x288 with 1 Axes>"
            ]
          },
          "metadata": {
            "tags": []
          }
        }
      ]
    }
  ]
}