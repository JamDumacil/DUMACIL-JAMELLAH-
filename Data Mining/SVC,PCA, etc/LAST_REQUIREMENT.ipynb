{
  "nbformat": 4,
  "nbformat_minor": 0,
  "metadata": {
    "colab": {
      "name": "LAST REQUIREMENT",
      "provenance": [],
      "collapsed_sections": []
    },
    "kernelspec": {
      "name": "python3",
      "display_name": "Python 3"
    }
  },
  "cells": [
    {
      "cell_type": "code",
      "metadata": {
        "id": "cjUafJyh22IR",
        "colab_type": "code",
        "colab": {}
      },
      "source": [
        "import pandas as pd\n",
        "import numpy as np\n",
        "import matplotlib.pyplot as plt\n",
        "%matplotlib inline\n",
        "from sklearn.svm import LinearSVC\n",
        "from sklearn.svm import SVC\n",
        "from sklearn import datasets\n",
        "from sklearn.preprocessing import StandardScaler\n",
        "from sklearn.model_selection import train_test_split\n",
        "from sklearn.decomposition import PCA\n",
        "from sklearn.ensemble import RandomForestClassifier\n",
        "from sklearn.metrics import confusion_matrix\n",
        "from sklearn.metrics import accuracy_score\n",
        "from sklearn.metrics import classification_report"
      ],
      "execution_count": 0,
      "outputs": []
    },
    {
      "cell_type": "code",
      "metadata": {
        "id": "pDj6iUTi4Klt",
        "colab_type": "code",
        "colab": {}
      },
      "source": [
        "iris = pd.read_csv('IRIS.csv')\n",
        "iris"
      ],
      "execution_count": 0,
      "outputs": []
    },
    {
      "cell_type": "code",
      "metadata": {
        "id": "RfuePwJt4Msb",
        "colab_type": "code",
        "colab": {}
      },
      "source": [
        "#yawa = {'species':['Iris-setosa','Iris-setosa','Iris-setosa','Iris-setosa','Iris-setosa','Iris-setosa','Iris-setosa','Iris-setosa','Iris-setosa','Iris-setosa',\n",
        "#'Iris-setosa','Iris-setosa','Iris-setosa','Iris-setosa','Iris-setosa','Iris-setosa','Iris-setosa','Iris-setosa','Iris-setosa','Iris-setosa',\n",
        "#'Iris-setosa','Iris-setosa','Iris-setosa','Iris-setosa','Iris-setosa','Iris-setosa','Iris-setosa','Iris-setosa','Iris-setosa','Iris-setosa',\n",
        "#'Iris-setosa','Iris-setosa','Iris-setosa','Iris-setosa','Iris-setosa','Iris-setosa','Iris-setosa','Iris-setosa','Iris-setosa','Iris-setosa',\n",
        "#'Iris-setosa','Iris-setosa','Iris-setosa','Iris-setosa','Iris-setosa','Iris-setosa','Iris-setosa','Iris-setosa','Iris-setosa','Iris-setosa',\n",
        "#'Iris-versicolor','Iris-versicolor','Iris-versicolor','Iris-versicolor','Iris-versicolor','Iris-versicolor','Iris-versicolor','Iris-versicolor','Iris-versicolor','Iris-versicolor',\n",
        "#'Iris-versicolor','Iris-versicolor','Iris-versicolor','Iris-versicolor','Iris-versicolor','Iris-versicolor','Iris-versicolor','Iris-versicolor','Iris-versicolor','Iris-versicolor',\n",
        "#'Iris-versicolor','Iris-versicolor','Iris-versicolor','Iris-versicolor','Iris-versicolor','Iris-versicolor','Iris-versicolor','Iris-versicolor','Iris-versicolor','Iris-versicolor',\n",
        "#'Iris-versicolor','Iris-versicolor','Iris-versicolor','Iris-versicolor','Iris-versicolor','Iris-versicolor','Iris-versicolor','Iris-versicolor','Iris-versicolor','Iris-versicolor',\n",
        "#'Iris-versicolor','Iris-versicolor','Iris-versicolor','Iris-versicolor','Iris-versicolor','Iris-versicolor','Iris-versicolor','Iris-versicolor','Iris-versicolor','Iris-versicolor',\n",
        "#'Iris-virginica','Iris-virginica','Iris-virginica','Iris-virginica','Iris-virginica','Iris-virginica','Iris-virginica','Iris-virginica','Iris-virginica','Iris-virginica',\n",
        "#'Iris-virginica','Iris-virginica','Iris-virginica','Iris-virginica','Iris-virginica','Iris-virginica','Iris-virginica','Iris-virginica','Iris-virginica','Iris-virginica',\n",
        "#'Iris-virginica','Iris-virginica','Iris-virginica','Iris-virginica','Iris-virginica','Iris-virginica','Iris-virginica','Iris-virginica','Iris-virginica','Iris-virginica',\n",
        "#'Iris-virginica','Iris-virginica','Iris-virginica','Iris-virginica','Iris-virginica','Iris-virginica','Iris-virginica','Iris-virginica','Iris-virginica','Iris-virginica',\n",
        "#'Iris-virginica','Iris-virginica','Iris-virginica','Iris-virginica','Iris-virginica','Iris-virginica','Iris-virginica','Iris-virginica','Iris-virginica','Iris-virginica',\n",
        "#]}\n",
        "\n",
        "iris.drop(iris[iris.species =='Iris-virginica'].index, inplace=True)\n",
        "#creates a new dataframe which consists of zeros and ones, it depends which is one or zero, either way\n",
        "iris = pd.get_dummies(iris)\n",
        "iris"
      ],
      "execution_count": 0,
      "outputs": []
    },
    {
      "cell_type": "code",
      "metadata": {
        "id": "mtVPSS0R4Oeu",
        "colab_type": "code",
        "colab": {}
      },
      "source": [
        "#https://chrisalbon.com/machine_learning/support_vector_machines/plot_support_vector_classifier_hyperplane/\n",
        "X = iris[['sepal_length','sepal_width','petal_length','petal_width']]\n",
        "y = iris['species_Iris-setosa']\n",
        "\n",
        "# Load data with only two classes and two features\n",
        "#iris = datasets.load_iris()\n",
        "#X = iris.data[:100,:2]\n",
        "#y = iris.target[:100]\n",
        "\n",
        "# Standarize features\n",
        "scaler = StandardScaler()\n",
        "X_std = scaler.fit_transform(X)\n",
        "\n",
        "# Create support vector classifier\n",
        "svc = LinearSVC(C=1.0)\n",
        "\n",
        "# Train model\n",
        "model = svc.fit(X_std, y)\n",
        "\n",
        "# Plot data points and color using their class\n",
        "color = ['black' if c == 0 else 'lightgrey' for c in y]\n",
        "plt.scatter(X_std[:,0], X_std[:,1], c=color)\n",
        "\n",
        "# Create the hyperplane\n",
        "w = svc.coef_[0]\n",
        "a = -w[0] / w[1]\n",
        "xx = np.linspace(-2.5, 2.5)\n",
        "yy = a * xx - (svc.intercept_[0]) / w[1]\n",
        "\n",
        "# Plot the hyperplane\n",
        "plt.plot(xx, yy)\n",
        "#plt.axis(\"off\"), plt.show();"
      ],
      "execution_count": 0,
      "outputs": []
    },
    {
      "cell_type": "code",
      "metadata": {
        "id": "feRhZNFb4P7q",
        "colab_type": "code",
        "colab": {}
      },
      "source": [
        "#https://stackabuse.com/implementing-svm-and-kernel-svm-with-pythons-scikit-learn/?fbclid=IwAR2RTrAhuX6rY0RWsrTdBvFUweF3_10-thrqVbpS1Iq6UxHtvEF_bdZSDIs\n",
        "# Splitting the dataset into the Training set and Test set\n",
        "X_train, X_test, y_train, y_test = train_test_split(X, y, test_size = 0.20)\n",
        "\n",
        "svclassifier = SVC(kernel='linear')\n",
        "svclassifier.fit(X_train, y_train)\n",
        "\n",
        "y_pred = svclassifier.predict(X_test)\n",
        "\n",
        "print(confusion_matrix(y_test,y_pred))\n",
        "print(classification_report(y_test,y_pred))\n"
      ],
      "execution_count": 0,
      "outputs": []
    },
    {
      "cell_type": "code",
      "metadata": {
        "id": "7IiaYjVO4RGe",
        "colab_type": "code",
        "colab": {}
      },
      "source": [
        "#https://stackabuse.com/implementing-pca-in-python-with-scikit-learn/\n",
        "# Standarize features\n",
        "scaler = StandardScaler()\n",
        "X_std = scaler.fit_transform(X_train)\n",
        "\n",
        "# Create support vector classifier\n",
        "svc = LinearSVC(C=1.0)\n",
        "\n",
        "# Train model\n",
        "model = svc.fit(X_std, y_train)\n",
        "\n",
        "# Plot data points and color using their class\n",
        "color = ['black' if c == 0 else 'lightgrey' for c in y_train]\n",
        "plt.scatter(X_std[:,0], X_std[:,1], c=color)\n",
        "\n",
        "# Create the hyperplane\n",
        "w = svc.coef_[0]\n",
        "a = -w[0] / w[1]\n",
        "xx = np.linspace(-2.5, 2.5)\n",
        "yy = a * xx - (svc.intercept_[0]) / w[1]\n",
        "\n",
        "# Plot the hyperplane\n",
        "plt.plot(xx, yy)\n",
        "#plt.axis(\"off\"), plt.show();"
      ],
      "execution_count": 0,
      "outputs": []
    }
  ]
}